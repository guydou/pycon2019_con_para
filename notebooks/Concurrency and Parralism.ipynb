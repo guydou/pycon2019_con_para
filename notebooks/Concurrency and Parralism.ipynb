{
 "cells": [
  {
   "cell_type": "markdown",
   "metadata": {
    "slideshow": {
     "slide_type": "slide"
    }
   },
   "source": [
    "# Concurrecy and Parralism in Python\n",
    "\n",
    "## pyconil 2019\n",
    "### by Guy Doulberg"
   ]
  },
  {
   "cell_type": "markdown",
   "metadata": {
    "slideshow": {
     "slide_type": "slide"
    }
   },
   "source": [
    "# Talk Metadata "
   ]
  },
  {
   "cell_type": "markdown",
   "metadata": {
    "slideshow": {
     "slide_type": "subslide"
    }
   },
   "source": [
    "# Who am I?"
   ]
  },
  {
   "cell_type": "markdown",
   "metadata": {
    "slideshow": {
     "slide_type": "fragment"
    }
   },
   "source": [
    "\n",
    "* My name is Guy Doulberg\n",
    "* I work in Satellogic\n",
    "* I have been developing in python in the last 3 years\n",
    "\n"
   ]
  },
  {
   "cell_type": "markdown",
   "metadata": {
    "slideshow": {
     "slide_type": "subslide"
    }
   },
   "source": [
    "# Why am I doing this talk?\n",
    "\n"
   ]
  },
  {
   "cell_type": "markdown",
   "metadata": {
    "slideshow": {
     "slide_type": "fragment"
    }
   },
   "source": [
    "* Because it is important to every python developer\n",
    "* Becasue I was happy to hear this talk 2 years ago when I had the need to concurrency\n"
   ]
  },
  {
   "cell_type": "markdown",
   "metadata": {
    "slideshow": {
     "slide_type": "subslide"
    }
   },
   "source": [
    "# What am I going to talk about?\n",
    "\n",
    "\n",
    "\n"
   ]
  },
  {
   "cell_type": "markdown",
   "metadata": {
    "slideshow": {
     "slide_type": "fragment"
    }
   },
   "source": [
    "* What is Concucurency and Parralism\n",
    "* How to implement softwares that use Concurrency and Parraslism in the python stadard library \n",
    "* How to implement Concurrency and Parraslism acrross hosts (cluster)\n"
   ]
  },
  {
   "cell_type": "markdown",
   "metadata": {
    "slideshow": {
     "slide_type": "subslide"
    }
   },
   "source": [
    "# Which python?\n"
   ]
  },
  {
   "cell_type": "markdown",
   "metadata": {
    "slideshow": {
     "slide_type": "fragment"
    }
   },
   "source": [
    "* python 3.7\n",
    "* I don't know enough about python 2.7"
   ]
  },
  {
   "cell_type": "markdown",
   "metadata": {
    "slideshow": {
     "slide_type": "slide"
    }
   },
   "source": [
    "# Theortical background"
   ]
  },
  {
   "cell_type": "markdown",
   "metadata": {
    "slideshow": {
     "slide_type": "subslide"
    }
   },
   "source": [
    "# Concurrency\n",
    "\n",
    "Consider you have two or more tasks that you need to execute on the same time. The tasks can start, work on the same time. \n",
    "\n"
   ]
  },
  {
   "cell_type": "markdown",
   "metadata": {
    "slideshow": {
     "slide_type": "fragment"
    }
   },
   "source": [
    "# Parralism \n",
    "\n",
    "Consider you have two or more tasks that run exactly on the same time (in parralel paths)."
   ]
  },
  {
   "cell_type": "markdown",
   "metadata": {
    "slideshow": {
     "slide_type": "fragment"
    }
   },
   "source": [
    "![image](http://koliber.ir/wp-content/uploads/2018/07/cvp-300x300.jpeg)"
   ]
  },
  {
   "cell_type": "markdown",
   "metadata": {
    "slideshow": {
     "slide_type": "subslide"
    }
   },
   "source": [
    "# IO bound vs CPU bound\n",
    "\n",
    "When programing, you should consider to either run you code concurrenty or in parallel, when:\n",
    "\n",
    "\n",
    "\n",
    "\n"
   ]
  },
  {
   "cell_type": "markdown",
   "metadata": {
    "slideshow": {
     "slide_type": "fragment"
    }
   },
   "source": [
    "* Your program can run faster if it uses more computing units (CPUs) - **CPU bound**\n"
   ]
  },
  {
   "cell_type": "markdown",
   "metadata": {
    "slideshow": {
     "slide_type": "fragment"
    }
   },
   "source": [
    "* Your program can run faster if it uses more bandwidth or reading/writing to several sources. - **IO bound**"
   ]
  },
  {
   "cell_type": "markdown",
   "metadata": {
    "slideshow": {
     "slide_type": "subslide"
    }
   },
   "source": [
    "It is important to identify the nature of your program becasue each of the bounds:\n",
    "\n"
   ]
  },
  {
   "cell_type": "markdown",
   "metadata": {
    "slideshow": {
     "slide_type": "fragment"
    }
   },
   "source": [
    "* Adding more compute units to IO bounded program will not help it -  (might do worst)"
   ]
  },
  {
   "cell_type": "markdown",
   "metadata": {
    "slideshow": {
     "slide_type": "fragment"
    }
   },
   "source": [
    "* Running tasks that can use only one CPU on a CPU bounded task will not help either."
   ]
  },
  {
   "cell_type": "markdown",
   "metadata": {
    "slideshow": {
     "slide_type": "subslide"
    }
   },
   "source": [
    "\n",
    "A program can also be bounded by the avaiable memory of the machine,\n",
    "\n"
   ]
  },
  {
   "cell_type": "markdown",
   "metadata": {
    "slideshow": {
     "slide_type": "slide"
    }
   },
   "source": [
    "# Dealing with IO Bounded tasks\n"
   ]
  },
  {
   "cell_type": "markdown",
   "metadata": {
    "slideshow": {
     "slide_type": "fragment"
    }
   },
   "source": [
    "* Break the code that is boudned by IO and run it *Concurrectly*. (scale out)\n",
    "    * In a single machine you can't utilize more than your avialable disk I/O\n",
    "    * In a single machine you can't utilize more than your avialable network I/O"
   ]
  },
  {
   "cell_type": "markdown",
   "metadata": {
    "slideshow": {
     "slide_type": "fragment"
    }
   },
   "source": [
    "* Scale up your disk or network card"
   ]
  },
  {
   "cell_type": "markdown",
   "metadata": {
    "slideshow": {
     "slide_type": "fragment"
    }
   },
   "source": [
    "Most of the scenarios I was dealing with, using the Network card and Disk card concurrenctly was more than enough for me."
   ]
  },
  {
   "cell_type": "markdown",
   "metadata": {
    "slideshow": {
     "slide_type": "subslide"
    }
   },
   "source": [
    "Let's do it in python\n",
    "\n",
    "First I will create a usecase of I/O bounded task,\n",
    "\n",
    "A flask server that runs the following code:\n",
    "\n",
    "```python\n",
    "from flask import Flask\n",
    "app = Flask(__name__)\n",
    "import time\n",
    "\n",
    "@app.route(\"/\")\n",
    "def sleep_well():\n",
    "    sleep_duration = 2\n",
    "    time.sleep(sleep_duration)\n",
    "    return \"Hello World!\"\n",
    "```\n",
    "\n",
    "I am running this flask server behind a gunicorn, in order to controll the number of requests it can handle:\n",
    "\n",
    "```shell\n",
    "gunicorn --bind 0.0.0.0:5000  -w 10 wsgi\n",
    "```"
   ]
  },
  {
   "cell_type": "markdown",
   "metadata": {
    "slideshow": {
     "slide_type": "subslide"
    }
   },
   "source": [
    "# Naive implemetation will be **sequnetial** "
   ]
  },
  {
   "cell_type": "code",
   "execution_count": 1,
   "metadata": {
    "slideshow": {
     "slide_type": "fragment"
    }
   },
   "outputs": [
    {
     "name": "stdout",
     "output_type": "stream",
     "text": [
      "Total time of execution: 20.104703664779663\n"
     ]
    }
   ],
   "source": [
    "import time\n",
    "import requests\n",
    "\n",
    "host = \"http://localhost:5000\"\n",
    "start_time = time.time()\n",
    "\n",
    "for i in range(10):\n",
    "    body = requests.get(host)\n",
    "    assert body.text == \"Hello World!\"\n",
    "    \n",
    "end_time = time.time()\n",
    "total = end_time - start_time\n",
    "\n",
    "print(\"Total time of execution: %s\" % (total))"
   ]
  },
  {
   "cell_type": "markdown",
   "metadata": {
    "slideshow": {
     "slide_type": "subslide"
    }
   },
   "source": [
    "# Using concurrent.futures.ThreadPoolExecutor\n"
   ]
  },
  {
   "cell_type": "code",
   "execution_count": 2,
   "metadata": {
    "slideshow": {
     "slide_type": "fragment"
    }
   },
   "outputs": [
    {
     "name": "stdout",
     "output_type": "stream",
     "text": [
      "Total time of execution: 2.036428213119507\n"
     ]
    }
   ],
   "source": [
    "from concurrent.futures import ThreadPoolExecutor, as_completed \n",
    "import time\n",
    "import requests\n",
    "\n",
    "host = \"http://localhost:5000\"\n",
    "\n",
    "def io_bounded_task():\n",
    "    body = requests.get(host)\n",
    "    return body\n",
    "    \n",
    "start_time = time.time()\n",
    "with ThreadPoolExecutor() as e:\n",
    "    futures = {e.submit(io_bounded_task) for i in range(10)}\n",
    "    for future in as_completed(futures):\n",
    "        assert future.result().text == \"Hello World!\"\n",
    "    \n",
    "end_time = time.time()\n",
    "total = end_time - start_time\n",
    "\n",
    "print(\"Total time of execution: %s\" % (total))"
   ]
  },
  {
   "cell_type": "markdown",
   "metadata": {
    "slideshow": {
     "slide_type": "subslide"
    }
   },
   "source": [
    "# What happens when we reach the limit?\n",
    "\n",
    "* Depends on what is blocking us\n",
    "* If we just exceed the avaiable bandwidth (by the server/client ISP, network card) - we just wouldn't be able to run more concurrent tasks\n",
    "* We could also be blocked by the server we are trying to reach \n",
    "\n",
    "Thefore we can throttle our requests:\n"
   ]
  },
  {
   "cell_type": "code",
   "execution_count": 3,
   "metadata": {
    "slideshow": {
     "slide_type": "subslide"
    }
   },
   "outputs": [
    {
     "name": "stdout",
     "output_type": "stream",
     "text": [
      "Total time of execution: 4.042229175567627\n"
     ]
    }
   ],
   "source": [
    "start_time = time.time()\n",
    "with ThreadPoolExecutor() as e:\n",
    "    futures = {e.submit(io_bounded_task) for i in range(20)}\n",
    "    for future in as_completed(futures):\n",
    "        assert future.result().text == \"Hello World!\"\n",
    "    \n",
    "end_time = time.time()\n",
    "total = end_time - start_time\n",
    "\n",
    "# we are being throttled by the server so it will not be broken\n",
    "#It is not healthy to count on the server for these things, we should count on our own\n",
    "print(\"Total time of execution: %s\" % (total))"
   ]
  },
  {
   "cell_type": "code",
   "execution_count": 4,
   "metadata": {
    "slideshow": {
     "slide_type": "fragment"
    }
   },
   "outputs": [
    {
     "name": "stdout",
     "output_type": "stream",
     "text": [
      "Total time of execution: 4.106059551239014\n"
     ]
    }
   ],
   "source": [
    "start_time = time.time()\n",
    "with ThreadPoolExecutor(max_workers=10) as e:\n",
    "    futures = {e.submit(io_bounded_task) for i in range(20)}\n",
    "    for future in as_completed(futures):\n",
    "        future.result().text == \"Hello World!\"\n",
    "    \n",
    "end_time = time.time()\n",
    "total = end_time - start_time\n",
    "\n",
    "print(\"Total time of execution: %s\" % (total))"
   ]
  },
  {
   "cell_type": "markdown",
   "metadata": {
    "slideshow": {
     "slide_type": "subslide"
    }
   },
   "source": [
    "# asyncio\n",
    "## When dealing with IO bounded tasks we can also use the asyncio module\n",
    "\n"
   ]
  },
  {
   "cell_type": "code",
   "execution_count": 7,
   "metadata": {
    "slideshow": {
     "slide_type": "subslide"
    }
   },
   "outputs": [
    {
     "name": "stdout",
     "output_type": "stream",
     "text": [
      "Total time of execution: 2.009946823120117\n"
     ]
    }
   ],
   "source": [
    "import asyncio\n",
    "\n",
    "# declaring coroutine method\n",
    "async def async_io_bounded_task():\n",
    "    body = requests.get(host)\n",
    "    assert body.text == \"Hello World!\"\n",
    "    \n",
    "start_time = time.time()\n",
    "# creating a coroutine mehtod to run several corutines\n",
    "async def main():\n",
    "    await asyncio.gather(async_io_bounded_task())\n",
    "    \n",
    "# I am running in a jupyter notebook so I have already event loop running:\n",
    "await main()\n",
    "\n",
    "# if you don't have event loop then:\n",
    "# asyncio.run(main())\n",
    "end_time = time.time()\n",
    "total = end_time - start_time\n",
    "\n",
    "print(\"Total time of execution: %s\" % (total))"
   ]
  },
  {
   "cell_type": "markdown",
   "metadata": {
    "slideshow": {
     "slide_type": "subslide"
    }
   },
   "source": [
    "# Which module to choose?\n",
    "\n",
    "I think it is a matter of taste, \n",
    "\n",
    "Maybe I am old fashined, but I prefer the the Exector module becasue it is easier for me to folow the code path \n",
    "\n"
   ]
  }
 ],
 "metadata": {
  "celltoolbar": "Slideshow",
  "kernelspec": {
   "display_name": "Python 3",
   "language": "python",
   "name": "python3"
  },
  "language_info": {
   "codemirror_mode": {
    "name": "ipython",
    "version": 3
   },
   "file_extension": ".py",
   "mimetype": "text/x-python",
   "name": "python",
   "nbconvert_exporter": "python",
   "pygments_lexer": "ipython3",
   "version": "3.7.3"
  }
 },
 "nbformat": 4,
 "nbformat_minor": 2
}
